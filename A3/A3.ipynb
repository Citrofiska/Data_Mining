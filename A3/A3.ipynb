{
 "cells": [
  {
   "cell_type": "markdown",
   "metadata": {},
   "source": [
    "# Homework 3: Mining Data Streams\n",
    "Homework Group 54: Xu Wang"
   ]
  },
  {
   "cell_type": "markdown",
   "metadata": {},
   "source": [
    "## Introduction\n",
    "In this homework I implemented the algrithm proposed in [TRIÈST: Counting Local and Global Triangles in Fully-Dynamic Streams with Fixed Memory Size](https://www.kdd.org/kdd2016/papers/files/rfp0465-de-stefaniA.pdf) to count global triangles in a given graph dataset. The dataset can be found via the link: [HEP-TH](https://snap.stanford.edu/data/ca-HepTh.html), which covers collaborations between authors papers submitted to High Energy Physics - Theory category from the e-print arXiv. In the dataset statistics we can see that the total number of triangles in this graph dataset is 28339. The goal of this homework is to generate an approximation of the number of triangles using two versions of the TRIEST algorithm that is based on reservoir sampling. "
   ]
  },
  {
   "cell_type": "code",
   "execution_count": 71,
   "metadata": {},
   "outputs": [],
   "source": [
    "import random\n",
    "import time"
   ]
  },
  {
   "cell_type": "code",
   "execution_count": 72,
   "metadata": {},
   "outputs": [],
   "source": [
    "# read in the dataset as a streaming graph\n",
    "def undirected_edge(u,v): # convert every edge to undirected edge\n",
    "    return (u,v) if u < v else (v,u)\n",
    "\n",
    "def read_stream(filename):\n",
    "    stream = set()\n",
    "    with open(filename,'r') as f:\n",
    "        for line in f:\n",
    "            if line[0] == '#':\n",
    "                continue\n",
    "            u,v = line.split()\n",
    "            if u != v:\n",
    "                stream.add(undirected_edge(u, v))\n",
    "    return stream"
   ]
  },
  {
   "cell_type": "code",
   "execution_count": 73,
   "metadata": {},
   "outputs": [
    {
     "name": "stdout",
     "output_type": "stream",
     "text": [
      "Total number of edges in the stream:  25973\n"
     ]
    }
   ],
   "source": [
    "stream = read_stream(\"CA-HepTh.txt\")\n",
    "print('Total number of edges in the stream: ', len(stream))"
   ]
  },
  {
   "cell_type": "markdown",
   "metadata": {},
   "source": [
    "## TRIEST_BASE\n",
    "Which works on insertion-only streams and uses standard reservior sampling to maintain the edge sample S."
   ]
  },
  {
   "cell_type": "code",
   "execution_count": 74,
   "metadata": {},
   "outputs": [],
   "source": [
    "class TRIEST_base():\n",
    "    def __init__(self, M=100):\n",
    "        self.edges = set() # maintain a sample of edges\n",
    "        self.M = M # sample size\n",
    "        self.global_counter = 0\n",
    "        self.local_counter = {}\n",
    "\n",
    "    def alg(self, stream):\n",
    "        t = 0\n",
    "        for edge in stream:\n",
    "            t += 1\n",
    "            if self.sample_edge(edge, t):\n",
    "                self.edges.add(edge)\n",
    "                self.update_counters(1, edge)\n",
    "        eps = (t * (t - 1) * (t - 2)) / (self.M * (self.M - 1) * (self.M - 2))\n",
    "        eps = max(eps, 1)\n",
    "        estimated_triangles = self.global_counter * eps\n",
    "        return estimated_triangles\n",
    "\n",
    "    def sample_edge(self, edge, t):\n",
    "        if t<=self.M:\n",
    "            return True\n",
    "        elif random.random() <= self.M/t: # reservoir sampling\n",
    "            removed_edge = random.sample(self.edges, 1)[0]\n",
    "            self.edges.remove(removed_edge)\n",
    "            self.update_counters(-1, edge)\n",
    "            return True \n",
    "        else:\n",
    "            return False\n",
    "\n",
    "    def update_counters(self, flag, edge):\n",
    "        u, v = edge[0], edge[1]\n",
    "        Nu = set()\n",
    "        Nv = set()\n",
    "        for e in self.edges:\n",
    "            if e[0] == u and e[1] != v:\n",
    "                Nu.add(e[1])\n",
    "            if e[1] == u and e[0] != v:\n",
    "                Nu.add(e[0])\n",
    "            if e[0] == v and e[1] != u:\n",
    "                Nv.add(e[1])\n",
    "            if e[1] == v and e[0] != u:\n",
    "                Nv.add(e[0])\n",
    "        shared_neighbors = Nu.intersection(Nv)\n",
    "\n",
    "        for c in shared_neighbors:\n",
    "            self.global_counter += flag\n",
    "            self.local_counter[c] = self.local_counter.get(c, 0) + flag\n",
    "            self.local_counter[edge[0]] = self.local_counter.get(edge[0], 0) + flag\n",
    "            self.local_counter[edge[1]] = self.local_counter.get(edge[1], 0) + flag"
   ]
  },
  {
   "cell_type": "code",
   "execution_count": 75,
   "metadata": {},
   "outputs": [],
   "source": [
    "sample_size = 2000"
   ]
  },
  {
   "cell_type": "code",
   "execution_count": 76,
   "metadata": {},
   "outputs": [
    {
     "name": "stderr",
     "output_type": "stream",
     "text": [
      "C:\\Users\\XUWANG~1\\AppData\\Local\\Temp/ipykernel_7912/1330371129.py:24: DeprecationWarning: Sampling from a set deprecated\n",
      "since Python 3.9 and will be removed in a subsequent version.\n",
      "  removed_edge = random.sample(self.edges, 1)[0]\n"
     ]
    },
    {
     "name": "stdout",
     "output_type": "stream",
     "text": [
      "---------------- Results with TRIEST_BASE ----------------\n",
      "Number of triangles with sample size 2000: 32897.97508378063 | Run time: 3.3732173442840576 seconds\n",
      "Number of triangles with full sample size: 28339.0 | Run time: 48.15503692626953 seconds\n",
      "Difference rate between the two estimates:  0.16087282839128508\n"
     ]
    }
   ],
   "source": [
    "t1 = time.time()\n",
    "triest_base_true = TRIEST_base(len(stream))\n",
    "true_triangles = triest_base_true.alg(stream)\n",
    "run1 = time.time() - t1\n",
    "t2 = time.time()\n",
    "\n",
    "triest_base = TRIEST_base(sample_size)\n",
    "estimated_triangles = triest_base.alg(stream)\n",
    "run2 = time.time() - t2\n",
    "print('---------------- Results with TRIEST_BASE ----------------')\n",
    "print('Number of triangles with sample size {}: {} | Run time: {} seconds'.format(sample_size, estimated_triangles, run2))\n",
    "print('Number of triangles with full sample size: {} | Run time: {} seconds'.format(true_triangles, run1))\n",
    "print('Difference rate between the two estimates: ', abs(estimated_triangles - true_triangles)/true_triangles)"
   ]
  },
  {
   "cell_type": "markdown",
   "metadata": {},
   "source": [
    "## TRIEST_IMPR\n",
    "With small modifications that result in higher-quality estimations. The changes are:   \n",
    "1. update_counter is called unconditionally for each element on the stream, before the algorithm decides whether or not to insert the egde into S.  \n",
    "2. never decrements the counters when an edge is removed from S.  \n",
    "3. update_counter performs a weighted increase of the counters using $\\eta_{t} = max(1, (t-1)(t-2)/M(M-1))$"
   ]
  },
  {
   "cell_type": "code",
   "execution_count": 77,
   "metadata": {},
   "outputs": [],
   "source": [
    "class TRIEST_impr():\n",
    "    def __init__(self, M=1000):\n",
    "        self.edges = set() # maintain a sample of edges\n",
    "        self.M = M # sample size\n",
    "        self.global_counter = 0\n",
    "        self.local_counter = {}\n",
    "\n",
    "    def alg(self, stream):\n",
    "        t = 0\n",
    "        for edge in stream:\n",
    "            t += 1\n",
    "            self.update_counters(t, edge) # move the update_counter before the if block\n",
    "            if self.sample_edge(edge, t):\n",
    "                self.edges.add(edge)\n",
    "\n",
    "        return self.global_counter # return the global counter, unmodified\n",
    "\n",
    "    def sample_edge(self, edge, t):\n",
    "        if t<=self.M:\n",
    "            return True\n",
    "        elif random.random() <= self.M/t: \n",
    "            removed_edge = random.sample(self.edges, 1)[0]\n",
    "            self.edges.remove(removed_edge)\n",
    "            # self.update_counters(-1, edge) # remove the update_counter so to never decrement the counters\n",
    "            return True \n",
    "        else:\n",
    "            return False\n",
    "\n",
    "    def update_counters(self, t, edge):\n",
    "        u, v = edge[0], edge[1]\n",
    "        Nu = set()\n",
    "        Nv = set()\n",
    "        for e in self.edges:\n",
    "            if e[0] == u and e[1] != v:\n",
    "                Nu.add(e[1])\n",
    "            if e[1] == u and e[0] != v:\n",
    "                Nu.add(e[0])\n",
    "            if e[0] == v and e[1] != u:\n",
    "                Nv.add(e[1])\n",
    "            if e[1] == v and e[0] != u:\n",
    "                Nv.add(e[0])\n",
    "        shared_neighbors = Nu.intersection(Nv)\n",
    "\n",
    "        eta = (t-1)*(t-2)/(self.M*(self.M-1)) # perfrom a weighted increase on the counters\n",
    "        eta = max(eta, 1) \n",
    "\n",
    "        for c in shared_neighbors: \n",
    "            self.global_counter += eta\n",
    "            self.local_counter[c] = self.local_counter.get(c, 0) + eta\n",
    "            self.local_counter[edge[0]] = self.local_counter.get(edge[0], 0) + eta\n",
    "            self.local_counter[edge[1]] = self.local_counter.get(edge[1], 0) + eta"
   ]
  },
  {
   "cell_type": "code",
   "execution_count": 78,
   "metadata": {},
   "outputs": [
    {
     "name": "stderr",
     "output_type": "stream",
     "text": [
      "C:\\Users\\XUWANG~1\\AppData\\Local\\Temp/ipykernel_7912/257472756.py:22: DeprecationWarning: Sampling from a set deprecated\n",
      "since Python 3.9 and will be removed in a subsequent version.\n",
      "  removed_edge = random.sample(self.edges, 1)[0]\n"
     ]
    },
    {
     "name": "stdout",
     "output_type": "stream",
     "text": [
      "---------------- Results with TRIEST_IMPROVED ----------------\n",
      "Number of triangles with sample size 2000: 26999.255763940964 | Run time: 14.219647407531738 seconds\n",
      "Number of triangles with full sample size: 28339 | Run time: 48.179219007492065 seconds\n",
      "Difference rate between the two estimates:  0.04727563555732509\n"
     ]
    }
   ],
   "source": [
    "t1 = time.time()\n",
    "triest_impr_true = TRIEST_impr(len(stream))\n",
    "true_triangles = triest_impr_true.alg(stream)\n",
    "run1 = time.time() - t1\n",
    "t2 = time.time()\n",
    "triest_impr = TRIEST_impr(sample_size)\n",
    "estimated_triangles = triest_impr.alg(stream)\n",
    "run2 = time.time() - t2\n",
    "print('---------------- Results with TRIEST_IMPROVED ----------------')\n",
    "print('Number of triangles with sample size {}: {} | Run time: {} seconds'.format(sample_size, estimated_triangles, run2))\n",
    "print('Number of triangles with full sample size: {} | Run time: {} seconds'.format(true_triangles, run1))\n",
    "print('Difference rate between the two estimates: ', abs(estimated_triangles - true_triangles)/true_triangles)"
   ]
  },
  {
   "cell_type": "markdown",
   "metadata": {},
   "source": [
    "## Optional task"
   ]
  },
  {
   "cell_type": "markdown",
   "metadata": {},
   "source": [
    "1. What were the challenges you faced when implementing the algorithm?    \n",
    "The first challenge is to find the shared neighborhood of the two vertices of one edge, which is used in the update_counter function. In the pseudocode it is just one line of mathematical notation but I find it hard to implement via code. It took me some time to figure out the data structure I should use.    \n",
    "Another one is choosing the sample size. At first I only use 100 and the algorithm output nothing. I thought maybe there was something wrong with my implementation and I spent a lot of time checking the structure of the algorithm. It turned out that the sample size is too small and there is no shared neighborhood found in the sampled graph."
   ]
  },
  {
   "cell_type": "markdown",
   "metadata": {},
   "source": [
    "2. Can the algorithm be easily parallelized? If yes, how? If not, why? Explain.    \n",
    "I think this algorithm is hard to be parallelized, or need other modifications. To parallelize this algorithm, the stream will be partitioned to different threads and each thread counts its triangles and then add up to be the total triangles in the dataset. However, take one triangle for example, if its three edges are unfortunately distributed into three different threads, then in each thread this triangle is incomplete thus will not be taken into consideration. But globally the triangle does exist. In this case the estimation is not accurate."
   ]
  },
  {
   "cell_type": "markdown",
   "metadata": {},
   "source": [
    "3. Does the algorithm work for unbounded graph streams? Explain.   \n",
    "Yes, this algorithm is proposed to eastimate both global and local triangles in an infinite streaming graph. It only maintains a sample of edges with a fixed size M that is chosen by the user, so there won't be any concerns regarding running out of memory. The sample of edges is obtained via reservoir sampling, which in each time step t>M, replaces an uniformly-chosen edge in the sample with the coming new edge with probability M/t. In this way, even if the graph is unbounded, since the sample size is fixed, the algorithm will still work well."
   ]
  },
  {
   "cell_type": "markdown",
   "metadata": {},
   "source": [
    "4. Does the algorithm support edge deletions? If not, what modification would it need? Explain.   \n",
    "No, for the two versions of the TRIEST algorithms(BASE and IMPROVED) implemented here, they work for insertion-only graphs. To support edge deletions, we could further adopt the TRIEST_FD proposed in the paper as well, which uses random pairing to extend reservoir sampling. The general idea is edge deletions will be \"compensated\" by future edge insertions and this algorithm keeps two counters to keep track of the number of uncompensated edge deletions involving an edge that was (resp. was not) in S at the time the deletion for that edge was on the stream."
   ]
  }
 ],
 "metadata": {
  "kernelspec": {
   "display_name": "Python 3 (ipykernel)",
   "language": "python",
   "name": "python3"
  },
  "language_info": {
   "codemirror_mode": {
    "name": "ipython",
    "version": 3
   },
   "file_extension": ".py",
   "mimetype": "text/x-python",
   "name": "python",
   "nbconvert_exporter": "python",
   "pygments_lexer": "ipython3",
   "version": "3.9.7"
  },
  "vscode": {
   "interpreter": {
    "hash": "3e2879a7bd479cbeb897d9ec143fa346b859f6c8c1f0cd19f937abde91010ec8"
   }
  }
 },
 "nbformat": 4,
 "nbformat_minor": 2
}
